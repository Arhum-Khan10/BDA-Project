{
 "cells": [
  {
   "cell_type": "markdown",
   "metadata": {},
   "source": [
    "# BDA Project: Create Your Own Spotify Experience\n",
    "\n",
    "### Feature Extraction and Transformation\n"
   ]
  },
  {
   "cell_type": "markdown",
   "metadata": {},
   "source": [
    "#### Group members:\n",
    "\n",
    "- Aaqib Ahmed Nazir (i22-1920),\n",
    "- Arhum Khan (i22-1967),\n",
    "- Ammar Khasif (i22-1968)\n",
    "\n",
    "##### Section: DS-D\n"
   ]
  },
  {
   "cell_type": "markdown",
   "metadata": {},
   "source": [
    "#### Libraries Used:\n"
   ]
  },
  {
   "cell_type": "code",
   "execution_count": 1,
   "metadata": {},
   "outputs": [],
   "source": [
    "import os\n",
    "import pymongo\n",
    "import librosa\n",
    "import numpy as np\n",
    "import pandas as pd\n",
    "from tqdm import tqdm\n",
    "from joblib import Parallel, delayed, Memory\n",
    "from sklearn.preprocessing import MinMaxScaler"
   ]
  },
  {
   "cell_type": "markdown",
   "metadata": {},
   "source": [
    "### Loading the file paths"
   ]
  },
  {
   "cell_type": "code",
   "execution_count": 2,
   "metadata": {},
   "outputs": [
    {
     "name": "stderr",
     "output_type": "stream",
     "text": [
      "/tmp/ipykernel_4219/3360183426.py:1: DtypeWarning: Columns (0,1,5,6,8,12,18,20,21,22,24,33,34,38,39,44,47,49) have mixed types. Specify dtype option on import or set low_memory=False.\n",
      "  tracks = pd.read_csv('fma_metadata/tracks.csv')\n",
      "/tmp/ipykernel_4219/3360183426.py:3: DtypeWarning: Columns (0,1,2,3,4,5,6,7,8,9,10,11,12,13,14,15,16,17,18,19,20,21,22,23,24,25,26,27,28,29,30,31,32,33,34,35,36,37,38,39,40,41,42,43,44,45,46,47,48,49,50,51,52,53,54,55,56,57,58,59,60,61,62,63,64,65,66,67,68,69,70,71,72,73,74,75,76,77,78,79,80,81,82,83,84,85,86,87,88,89,90,91,92,93,94,95,96,97,98,99,100,101,102,103,104,105,106,107,108,109,110,111,112,113,114,115,116,117,118,119,120,121,122,123,124,125,126,127,128,129,130,131,132,133,134,135,136,137,138,139,140,141,142,143,144,145,146,147,148,149,150,151,152,153,154,155,156,157,158,159,160,161,162,163,164,165,166,167,168,169,170,171,172,173,174,175,176,177,178,179,180,181,182,183,184,185,186,187,188,189,190,191,192,193,194,195,196,197,198,199,200,201,202,203,204,205,206,207,208,209,210,211,212,213,214,215,216,217,218,219,220,221,222,223,224,225,226,227,228,229,230,231,232,233,234,235,236,237,238,239,240,241,242,243,244,245,246,247,248,249,250,251,252,253,254,255,256,257,258,259,260,261,262,263,264,265,266,267,268,269,270,271,272,273,274,275,276,277,278,279,280,281,282,283,284,285,286,287,288,289,290,291,292,293,294,295,296,297,298,299,300,301,302,303,304,305,306,307,308,309,310,311,312,313,314,315,316,317,318,319,320,321,322,323,324,325,326,327,328,329,330,331,332,333,334,335,336,337,338,339,340,341,342,343,344,345,346,347,348,349,350,351,352,353,354,355,356,357,358,359,360,361,362,363,364,365,366,367,368,369,370,371,372,373,374,375,376,377,378,379,380,381,382,383,384,385,386,387,388,389,390,391,392,393,394,395,396,397,398,399,400,401,402,403,404,405,406,407,408,409,410,411,412,413,414,415,416,417,418,419,420,421,422,423,424,425,426,427,428,429,430,431,432,433,434,435,436,437,438,439,440,441,442,443,444,445,446,447,448,449,450,451,452,453,454,455,456,457,458,459,460,461,462,463,464,465,466,467,468,469,470,471,472,473,474,475,476,477,478,479,480,481,482,483,484,485,486,487,488,489,490,491,492,493,494,495,496,497,498,499,500,501,502,503,504,505,506,507,508,509,510,511,512,513,514,515,516,517,518) have mixed types. Specify dtype option on import or set low_memory=False.\n",
      "  features = pd.read_csv('fma_metadata/features.csv')\n",
      "/tmp/ipykernel_4219/3360183426.py:4: DtypeWarning: Columns (0,1,2,3,4,5,6,7,8,11,13,16,17,18,19,20,21,22,23,24,25,26,27,28,29,30,31,32,33,34,35,36,37,38,39,40,41,42,43,44,45,46,47,48,49,50,51,52,53,54,55,56,57,58,59,60,61,62,63,64,65,66,67,68,69,70,71,72,73,74,75,76,77,78,79,80,81,82,83,84,85,86,87,88,89,90,91,92,93,94,95,96,97,98,99,100,101,102,103,104,105,106,107,108,109,110,111,112,113,114,115,116,117,118,119,120,121,122,123,124,125,126,127,128,129,130,131,132,133,134,135,136,137,138,139,140,141,142,143,144,145,146,147,148,149,150,151,152,153,154,155,156,157,158,159,160,161,162,163,164,165,166,167,168,169,170,171,172,173,174,175,176,177,178,179,180,181,182,183,184,185,186,187,188,189,190,191,192,193,194,195,196,197,198,199,200,201,202,203,204,205,206,207,208,209,210,211,212,213,214,215,216,217,218,219,220,221,222,223,224,225,226,227,228,229,230,231,232,233,234,235,236,237,238,239,240,241,242,243,244,245,246,247,248,249) have mixed types. Specify dtype option on import or set low_memory=False.\n",
      "  echonest = pd.read_csv('fma_metadata/echonest.csv')\n",
      "/tmp/ipykernel_4219/3360183426.py:9: DtypeWarning: Columns (0,1,2,3,4,5,6,7,8,11,13,16,17,18,19,20,21,22,23,24,25,26,27,28,29,30,31,32,33,34,35,36,37,38,39,40,41,42,43,44,45,46,47,48,49,50,51,52,53,54,55,56,57,58,59,60,61,62,63,64,65,66,67,68,69,70,71,72,73,74,75,76,77,78,79,80,81,82,83,84,85,86,87,88,89,90,91,92,93,94,95,96,97,98,99,100,101,102,103,104,105,106,107,108,109,110,111,112,113,114,115,116,117,118,119,120,121,122,123,124,125,126,127,128,129,130,131,132,133,134,135,136,137,138,139,140,141,142,143,144,145,146,147,148,149,150,151,152,153,154,155,156,157,158,159,160,161,162,163,164,165,166,167,168,169,170,171,172,173,174,175,176,177,178,179,180,181,182,183,184,185,186,187,188,189,190,191,192,193,194,195,196,197,198,199,200,201,202,203,204,205,206,207,208,209,210,211,212,213,214,215,216,217,218,219,220,221,222,223,224,225,226,227,228,229,230,231,232,233,234,235,236,237,238,239,240,241,242,243,244,245,246,247,248,249) have mixed types. Specify dtype option on import or set low_memory=False.\n",
      "  raw_echonest = pd.read_csv('fma_metadata/raw_echonest.csv')\n"
     ]
    }
   ],
   "source": [
    "tracks = pd.read_csv('fma_metadata/tracks.csv')\n",
    "genres = pd.read_csv('fma_metadata/genres.csv')\n",
    "features = pd.read_csv('fma_metadata/features.csv')\n",
    "echonest = pd.read_csv('fma_metadata/echonest.csv')\n",
    "raw_albums = pd.read_csv('fma_metadata/raw_albums.csv')\n",
    "raw_artists = pd.read_csv('fma_metadata/raw_artists.csv')\n",
    "raw_genres = pd.read_csv('fma_metadata/raw_genres.csv')\n",
    "raw_tracks = pd.read_csv('fma_metadata/raw_tracks.csv')\n",
    "raw_echonest = pd.read_csv('fma_metadata/raw_echonest.csv')"
   ]
  },
  {
   "cell_type": "markdown",
   "metadata": {},
   "source": [
    "### Function to get artist name \n",
    "for testing purposes"
   ]
  },
  {
   "cell_type": "code",
   "execution_count": 3,
   "metadata": {},
   "outputs": [
    {
     "name": "stdout",
     "output_type": "stream",
     "text": [
      "Artist found\n"
     ]
    }
   ],
   "source": [
    "def find_artist(artist_name):\n",
    "    artist_name = artist_name.lower()\n",
    "    raw_artists[\"artist_name\"] = raw_artists[\"artist_name\"].str.lower()\n",
    "\n",
    "    # Checking if artist is in the dataset\n",
    "    if artist_name.lower() in raw_artists[\"artist_name\"].values:\n",
    "        print(\"Artist found\")\n",
    "    else:\n",
    "        print(\"Artist not found\")\n",
    "\n",
    "\n",
    "artist_name = \"lucky dragons\"\n",
    "find_artist(artist_name)"
   ]
  },
  {
   "cell_type": "markdown",
   "metadata": {},
   "source": [
    "### Function to extract features from the audio files and Normalize them\n",
    "loads an audio file using Librosa library, then extracts three features: MFCC, spectral centroid, and zero-crossing rate. It caches the results for faster access later. If an error occurs, it prints an error message and returns empty arrays."
   ]
  },
  {
   "cell_type": "code",
   "execution_count": 4,
   "metadata": {},
   "outputs": [],
   "source": [
    "def extract_features(file):\n",
    "    try:\n",
    "        y, sr = librosa.load(file, sr=None)\n",
    "        mfcc = librosa.feature.mfcc(y=y, sr=sr)\n",
    "        spectral_centroid = librosa.feature.spectral_centroid(y=y, sr=sr)\n",
    "        zero_crossing_rate = librosa.feature.zero_crossing_rate(y)\n",
    "        \n",
    "        # Normalizing features\n",
    "        scaler = MinMaxScaler()\n",
    "        mfcc_normalized = scaler.fit_transform(mfcc.T).T.tolist()\n",
    "        spectral_centroid_normalized = scaler.fit_transform(spectral_centroid.T).T.tolist()\n",
    "        zero_crossing_rate_normalized = scaler.fit_transform(zero_crossing_rate.T).T.tolist()\n",
    "        \n",
    "        return {\"file_name\": os.path.basename(file), \n",
    "                \"mfcc\": mfcc_normalized, \n",
    "                \"spectral_centroid\": spectral_centroid_normalized, \n",
    "                \"zero_crossing_rate\": zero_crossing_rate_normalized}\n",
    "    except Exception as e:\n",
    "        print(f\"Error loading file {file}: {e}\")\n",
    "        return None"
   ]
  },
  {
   "cell_type": "markdown",
   "metadata": {},
   "source": [
    "### Parallel Audio Feature Extraction and Adding the Features to MongoDB \n",
    "utilizes parallel processing to extract audio features from each file concurrently, enhancing computational efficiency. It employs the os.walk function for directory traversal, Parallel from joblib for parallelism, and tqdm for a progress bar display."
   ]
  },
  {
   "cell_type": "code",
   "execution_count": 5,
   "metadata": {},
   "outputs": [
    {
     "name": "stderr",
     "output_type": "stream",
     "text": [
      "  0%|          | 0/386 [00:00<?, ?it/s]"
     ]
    },
    {
     "name": "stderr",
     "output_type": "stream",
     "text": [
      "100%|██████████| 386/386 [00:42<00:00,  9.02it/s]\n"
     ]
    },
    {
     "data": {
      "text/plain": [
       "InsertManyResult([ObjectId('6638cfe190e9d96e82562aaf'), ObjectId('6638cfe190e9d96e82562ab0'), ObjectId('6638cfe190e9d96e82562ab1'), ObjectId('6638cfe190e9d96e82562ab2'), ObjectId('6638cfe190e9d96e82562ab3'), ObjectId('6638cfe190e9d96e82562ab4'), ObjectId('6638cfe190e9d96e82562ab5'), ObjectId('6638cfe190e9d96e82562ab6'), ObjectId('6638cfe190e9d96e82562ab7'), ObjectId('6638cfe190e9d96e82562ab8'), ObjectId('6638cfe190e9d96e82562ab9'), ObjectId('6638cfe190e9d96e82562aba'), ObjectId('6638cfe190e9d96e82562abb'), ObjectId('6638cfe190e9d96e82562abc'), ObjectId('6638cfe190e9d96e82562abd'), ObjectId('6638cfe190e9d96e82562abe'), ObjectId('6638cfe190e9d96e82562abf'), ObjectId('6638cfe190e9d96e82562ac0'), ObjectId('6638cfe190e9d96e82562ac1'), ObjectId('6638cfe190e9d96e82562ac2'), ObjectId('6638cfe190e9d96e82562ac3'), ObjectId('6638cfe190e9d96e82562ac4'), ObjectId('6638cfe190e9d96e82562ac5'), ObjectId('6638cfe190e9d96e82562ac6'), ObjectId('6638cfe190e9d96e82562ac7'), ObjectId('6638cfe190e9d96e82562ac8'), ObjectId('6638cfe190e9d96e82562ac9'), ObjectId('6638cfe190e9d96e82562aca'), ObjectId('6638cfe190e9d96e82562acb'), ObjectId('6638cfe190e9d96e82562acc'), ObjectId('6638cfe190e9d96e82562acd'), ObjectId('6638cfe190e9d96e82562ace'), ObjectId('6638cfe190e9d96e82562acf'), ObjectId('6638cfe190e9d96e82562ad0'), ObjectId('6638cfe190e9d96e82562ad1'), ObjectId('6638cfe190e9d96e82562ad2'), ObjectId('6638cfe190e9d96e82562ad3'), ObjectId('6638cfe190e9d96e82562ad4'), ObjectId('6638cfe190e9d96e82562ad5'), ObjectId('6638cfe190e9d96e82562ad6'), ObjectId('6638cfe190e9d96e82562ad7'), ObjectId('6638cfe190e9d96e82562ad8'), ObjectId('6638cfe190e9d96e82562ad9'), ObjectId('6638cfe190e9d96e82562ada'), ObjectId('6638cfe190e9d96e82562adb'), ObjectId('6638cfe190e9d96e82562adc'), ObjectId('6638cfe190e9d96e82562add'), ObjectId('6638cfe190e9d96e82562ade'), ObjectId('6638cfe190e9d96e82562adf'), ObjectId('6638cfe190e9d96e82562ae0'), ObjectId('6638cfe190e9d96e82562ae1'), ObjectId('6638cfe190e9d96e82562ae2'), ObjectId('6638cfe190e9d96e82562ae3'), ObjectId('6638cfe190e9d96e82562ae4'), ObjectId('6638cfe190e9d96e82562ae5'), ObjectId('6638cfe190e9d96e82562ae6'), ObjectId('6638cfe190e9d96e82562ae7'), ObjectId('6638cfe190e9d96e82562ae8'), ObjectId('6638cfe190e9d96e82562ae9'), ObjectId('6638cfe190e9d96e82562aea'), ObjectId('6638cfe190e9d96e82562aeb'), ObjectId('6638cfe190e9d96e82562aec'), ObjectId('6638cfe190e9d96e82562aed'), ObjectId('6638cfe190e9d96e82562aee'), ObjectId('6638cfe190e9d96e82562aef'), ObjectId('6638cfe190e9d96e82562af0'), ObjectId('6638cfe190e9d96e82562af1'), ObjectId('6638cfe190e9d96e82562af2'), ObjectId('6638cfe190e9d96e82562af3'), ObjectId('6638cfe190e9d96e82562af4'), ObjectId('6638cfe190e9d96e82562af5'), ObjectId('6638cfe190e9d96e82562af6'), ObjectId('6638cfe190e9d96e82562af7'), ObjectId('6638cfe190e9d96e82562af8'), ObjectId('6638cfe190e9d96e82562af9'), ObjectId('6638cfe190e9d96e82562afa'), ObjectId('6638cfe190e9d96e82562afb'), ObjectId('6638cfe190e9d96e82562afc'), ObjectId('6638cfe190e9d96e82562afd'), ObjectId('6638cfe190e9d96e82562afe'), ObjectId('6638cfe190e9d96e82562aff'), ObjectId('6638cfe190e9d96e82562b00'), ObjectId('6638cfe190e9d96e82562b01'), ObjectId('6638cfe190e9d96e82562b02'), ObjectId('6638cfe190e9d96e82562b03'), ObjectId('6638cfe190e9d96e82562b04'), ObjectId('6638cfe190e9d96e82562b05'), ObjectId('6638cfe190e9d96e82562b06'), ObjectId('6638cfe190e9d96e82562b07'), ObjectId('6638cfe190e9d96e82562b08'), ObjectId('6638cfe190e9d96e82562b09'), ObjectId('6638cfe190e9d96e82562b0a'), ObjectId('6638cfe190e9d96e82562b0b'), ObjectId('6638cfe190e9d96e82562b0c'), ObjectId('6638cfe190e9d96e82562b0d'), ObjectId('6638cfe190e9d96e82562b0e'), ObjectId('6638cfe190e9d96e82562b0f'), ObjectId('6638cfe190e9d96e82562b10'), ObjectId('6638cfe190e9d96e82562b11'), ObjectId('6638cfe190e9d96e82562b12'), ObjectId('6638cfe190e9d96e82562b13'), ObjectId('6638cfe190e9d96e82562b14'), ObjectId('6638cfe190e9d96e82562b15'), ObjectId('6638cfe190e9d96e82562b16'), ObjectId('6638cfe190e9d96e82562b17'), ObjectId('6638cfe190e9d96e82562b18'), ObjectId('6638cfe190e9d96e82562b19'), ObjectId('6638cfe190e9d96e82562b1a'), ObjectId('6638cfe190e9d96e82562b1b'), ObjectId('6638cfe190e9d96e82562b1c'), ObjectId('6638cfe190e9d96e82562b1d'), ObjectId('6638cfe190e9d96e82562b1e'), ObjectId('6638cfe190e9d96e82562b1f'), ObjectId('6638cfe190e9d96e82562b20'), ObjectId('6638cfe190e9d96e82562b21'), ObjectId('6638cfe190e9d96e82562b22'), ObjectId('6638cfe190e9d96e82562b23'), ObjectId('6638cfe190e9d96e82562b24'), ObjectId('6638cfe190e9d96e82562b25'), ObjectId('6638cfe190e9d96e82562b26'), ObjectId('6638cfe190e9d96e82562b27'), ObjectId('6638cfe190e9d96e82562b28'), ObjectId('6638cfe190e9d96e82562b29'), ObjectId('6638cfe190e9d96e82562b2a'), ObjectId('6638cfe190e9d96e82562b2b'), ObjectId('6638cfe190e9d96e82562b2c'), ObjectId('6638cfe190e9d96e82562b2d'), ObjectId('6638cfe190e9d96e82562b2e'), ObjectId('6638cfe190e9d96e82562b2f'), ObjectId('6638cfe190e9d96e82562b30'), ObjectId('6638cfe190e9d96e82562b31'), ObjectId('6638cfe190e9d96e82562b32'), ObjectId('6638cfe190e9d96e82562b33'), ObjectId('6638cfe190e9d96e82562b34'), ObjectId('6638cfe190e9d96e82562b35'), ObjectId('6638cfe190e9d96e82562b36'), ObjectId('6638cfe190e9d96e82562b37'), ObjectId('6638cfe190e9d96e82562b38'), ObjectId('6638cfe190e9d96e82562b39'), ObjectId('6638cfe190e9d96e82562b3a'), ObjectId('6638cfe190e9d96e82562b3b'), ObjectId('6638cfe190e9d96e82562b3c'), ObjectId('6638cfe190e9d96e82562b3d'), ObjectId('6638cfe190e9d96e82562b3e'), ObjectId('6638cfe190e9d96e82562b3f'), ObjectId('6638cfe190e9d96e82562b40'), ObjectId('6638cfe190e9d96e82562b41'), ObjectId('6638cfe190e9d96e82562b42'), ObjectId('6638cfe190e9d96e82562b43'), ObjectId('6638cfe190e9d96e82562b44'), ObjectId('6638cfe190e9d96e82562b45'), ObjectId('6638cfe190e9d96e82562b46'), ObjectId('6638cfe190e9d96e82562b47'), ObjectId('6638cfe190e9d96e82562b48'), ObjectId('6638cfe190e9d96e82562b49'), ObjectId('6638cfe190e9d96e82562b4a'), ObjectId('6638cfe190e9d96e82562b4b'), ObjectId('6638cfe190e9d96e82562b4c'), ObjectId('6638cfe190e9d96e82562b4d'), ObjectId('6638cfe190e9d96e82562b4e'), ObjectId('6638cfe190e9d96e82562b4f'), ObjectId('6638cfe190e9d96e82562b50'), ObjectId('6638cfe190e9d96e82562b51'), ObjectId('6638cfe190e9d96e82562b52'), ObjectId('6638cfe190e9d96e82562b53'), ObjectId('6638cfe190e9d96e82562b54'), ObjectId('6638cfe190e9d96e82562b55'), ObjectId('6638cfe190e9d96e82562b56'), ObjectId('6638cfe190e9d96e82562b57'), ObjectId('6638cfe190e9d96e82562b58'), ObjectId('6638cfe190e9d96e82562b59'), ObjectId('6638cfe190e9d96e82562b5a'), ObjectId('6638cfe190e9d96e82562b5b'), ObjectId('6638cfe190e9d96e82562b5c'), ObjectId('6638cfe190e9d96e82562b5d'), ObjectId('6638cfe190e9d96e82562b5e'), ObjectId('6638cfe190e9d96e82562b5f'), ObjectId('6638cfe190e9d96e82562b60'), ObjectId('6638cfe190e9d96e82562b61'), ObjectId('6638cfe190e9d96e82562b62'), ObjectId('6638cfe190e9d96e82562b63'), ObjectId('6638cfe190e9d96e82562b64'), ObjectId('6638cfe190e9d96e82562b65'), ObjectId('6638cfe190e9d96e82562b66'), ObjectId('6638cfe190e9d96e82562b67'), ObjectId('6638cfe190e9d96e82562b68'), ObjectId('6638cfe190e9d96e82562b69'), ObjectId('6638cfe190e9d96e82562b6a'), ObjectId('6638cfe190e9d96e82562b6b'), ObjectId('6638cfe190e9d96e82562b6c'), ObjectId('6638cfe190e9d96e82562b6d'), ObjectId('6638cfe190e9d96e82562b6e'), ObjectId('6638cfe190e9d96e82562b6f'), ObjectId('6638cfe190e9d96e82562b70'), ObjectId('6638cfe190e9d96e82562b71'), ObjectId('6638cfe190e9d96e82562b72'), ObjectId('6638cfe190e9d96e82562b73'), ObjectId('6638cfe190e9d96e82562b74'), ObjectId('6638cfe190e9d96e82562b75'), ObjectId('6638cfe190e9d96e82562b76'), ObjectId('6638cfe190e9d96e82562b77'), ObjectId('6638cfe190e9d96e82562b78'), ObjectId('6638cfe190e9d96e82562b79'), ObjectId('6638cfe190e9d96e82562b7a'), ObjectId('6638cfe190e9d96e82562b7b'), ObjectId('6638cfe190e9d96e82562b7c'), ObjectId('6638cfe190e9d96e82562b7d'), ObjectId('6638cfe190e9d96e82562b7e'), ObjectId('6638cfe190e9d96e82562b7f'), ObjectId('6638cfe190e9d96e82562b80'), ObjectId('6638cfe190e9d96e82562b81'), ObjectId('6638cfe190e9d96e82562b82'), ObjectId('6638cfe190e9d96e82562b83'), ObjectId('6638cfe190e9d96e82562b84'), ObjectId('6638cfe190e9d96e82562b85'), ObjectId('6638cfe190e9d96e82562b86'), ObjectId('6638cfe190e9d96e82562b87'), ObjectId('6638cfe190e9d96e82562b88'), ObjectId('6638cfe190e9d96e82562b89'), ObjectId('6638cfe190e9d96e82562b8a'), ObjectId('6638cfe190e9d96e82562b8b'), ObjectId('6638cfe190e9d96e82562b8c'), ObjectId('6638cfe190e9d96e82562b8d'), ObjectId('6638cfe190e9d96e82562b8e'), ObjectId('6638cfe190e9d96e82562b8f'), ObjectId('6638cfe190e9d96e82562b90'), ObjectId('6638cfe190e9d96e82562b91'), ObjectId('6638cfe190e9d96e82562b92'), ObjectId('6638cfe190e9d96e82562b93'), ObjectId('6638cfe190e9d96e82562b94'), ObjectId('6638cfe190e9d96e82562b95'), ObjectId('6638cfe190e9d96e82562b96'), ObjectId('6638cfe190e9d96e82562b97'), ObjectId('6638cfe190e9d96e82562b98'), ObjectId('6638cfe190e9d96e82562b99'), ObjectId('6638cfe190e9d96e82562b9a'), ObjectId('6638cfe190e9d96e82562b9b'), ObjectId('6638cfe190e9d96e82562b9c'), ObjectId('6638cfe190e9d96e82562b9d'), ObjectId('6638cfe190e9d96e82562b9e'), ObjectId('6638cfe190e9d96e82562b9f'), ObjectId('6638cfe190e9d96e82562ba0'), ObjectId('6638cfe190e9d96e82562ba1'), ObjectId('6638cfe190e9d96e82562ba2'), ObjectId('6638cfe190e9d96e82562ba3'), ObjectId('6638cfe190e9d96e82562ba4'), ObjectId('6638cfe190e9d96e82562ba5'), ObjectId('6638cfe190e9d96e82562ba6'), ObjectId('6638cfe190e9d96e82562ba7'), ObjectId('6638cfe190e9d96e82562ba8'), ObjectId('6638cfe190e9d96e82562ba9'), ObjectId('6638cfe190e9d96e82562baa'), ObjectId('6638cfe190e9d96e82562bab'), ObjectId('6638cfe190e9d96e82562bac'), ObjectId('6638cfe190e9d96e82562bad'), ObjectId('6638cfe190e9d96e82562bae'), ObjectId('6638cfe190e9d96e82562baf'), ObjectId('6638cfe190e9d96e82562bb0'), ObjectId('6638cfe190e9d96e82562bb1'), ObjectId('6638cfe190e9d96e82562bb2'), ObjectId('6638cfe190e9d96e82562bb3'), ObjectId('6638cfe190e9d96e82562bb4'), ObjectId('6638cfe190e9d96e82562bb5'), ObjectId('6638cfe190e9d96e82562bb6'), ObjectId('6638cfe190e9d96e82562bb7'), ObjectId('6638cfe190e9d96e82562bb8'), ObjectId('6638cfe190e9d96e82562bb9'), ObjectId('6638cfe190e9d96e82562bba'), ObjectId('6638cfe190e9d96e82562bbb'), ObjectId('6638cfe190e9d96e82562bbc'), ObjectId('6638cfe190e9d96e82562bbd'), ObjectId('6638cfe190e9d96e82562bbe'), ObjectId('6638cfe190e9d96e82562bbf'), ObjectId('6638cfe190e9d96e82562bc0'), ObjectId('6638cfe190e9d96e82562bc1'), ObjectId('6638cfe190e9d96e82562bc2'), ObjectId('6638cfe190e9d96e82562bc3'), ObjectId('6638cfe190e9d96e82562bc4'), ObjectId('6638cfe190e9d96e82562bc5'), ObjectId('6638cfe190e9d96e82562bc6'), ObjectId('6638cfe190e9d96e82562bc7'), ObjectId('6638cfe190e9d96e82562bc8'), ObjectId('6638cfe190e9d96e82562bc9'), ObjectId('6638cfe190e9d96e82562bca'), ObjectId('6638cfe190e9d96e82562bcb'), ObjectId('6638cfe190e9d96e82562bcc'), ObjectId('6638cfe190e9d96e82562bcd'), ObjectId('6638cfe190e9d96e82562bce'), ObjectId('6638cfe190e9d96e82562bcf'), ObjectId('6638cfe190e9d96e82562bd0'), ObjectId('6638cfe190e9d96e82562bd1'), ObjectId('6638cfe190e9d96e82562bd2'), ObjectId('6638cfe190e9d96e82562bd3'), ObjectId('6638cfe190e9d96e82562bd4'), ObjectId('6638cfe190e9d96e82562bd5'), ObjectId('6638cfe190e9d96e82562bd6'), ObjectId('6638cfe190e9d96e82562bd7'), ObjectId('6638cfe190e9d96e82562bd8'), ObjectId('6638cfe190e9d96e82562bd9'), ObjectId('6638cfe190e9d96e82562bda'), ObjectId('6638cfe190e9d96e82562bdb'), ObjectId('6638cfe190e9d96e82562bdc'), ObjectId('6638cfe190e9d96e82562bdd'), ObjectId('6638cfe190e9d96e82562bde'), ObjectId('6638cfe190e9d96e82562bdf'), ObjectId('6638cfe190e9d96e82562be0'), ObjectId('6638cfe190e9d96e82562be1'), ObjectId('6638cfe190e9d96e82562be2'), ObjectId('6638cfe190e9d96e82562be3'), ObjectId('6638cfe190e9d96e82562be4'), ObjectId('6638cfe190e9d96e82562be5'), ObjectId('6638cfe190e9d96e82562be6'), ObjectId('6638cfe190e9d96e82562be7'), ObjectId('6638cfe190e9d96e82562be8'), ObjectId('6638cfe190e9d96e82562be9'), ObjectId('6638cfe190e9d96e82562bea'), ObjectId('6638cfe190e9d96e82562beb'), ObjectId('6638cfe190e9d96e82562bec'), ObjectId('6638cfe190e9d96e82562bed'), ObjectId('6638cfe190e9d96e82562bee'), ObjectId('6638cfe190e9d96e82562bef'), ObjectId('6638cfe190e9d96e82562bf0'), ObjectId('6638cfe190e9d96e82562bf1'), ObjectId('6638cfe190e9d96e82562bf2'), ObjectId('6638cfe190e9d96e82562bf3'), ObjectId('6638cfe190e9d96e82562bf4'), ObjectId('6638cfe190e9d96e82562bf5'), ObjectId('6638cfe190e9d96e82562bf6'), ObjectId('6638cfe190e9d96e82562bf7'), ObjectId('6638cfe190e9d96e82562bf8'), ObjectId('6638cfe190e9d96e82562bf9'), ObjectId('6638cfe190e9d96e82562bfa'), ObjectId('6638cfe190e9d96e82562bfb'), ObjectId('6638cfe190e9d96e82562bfc'), ObjectId('6638cfe190e9d96e82562bfd'), ObjectId('6638cfe190e9d96e82562bfe'), ObjectId('6638cfe190e9d96e82562bff'), ObjectId('6638cfe190e9d96e82562c00'), ObjectId('6638cfe190e9d96e82562c01'), ObjectId('6638cfe190e9d96e82562c02'), ObjectId('6638cfe190e9d96e82562c03'), ObjectId('6638cfe190e9d96e82562c04'), ObjectId('6638cfe190e9d96e82562c05'), ObjectId('6638cfe190e9d96e82562c06'), ObjectId('6638cfe190e9d96e82562c07'), ObjectId('6638cfe190e9d96e82562c08'), ObjectId('6638cfe190e9d96e82562c09'), ObjectId('6638cfe190e9d96e82562c0a'), ObjectId('6638cfe190e9d96e82562c0b'), ObjectId('6638cfe190e9d96e82562c0c'), ObjectId('6638cfe190e9d96e82562c0d'), ObjectId('6638cfe190e9d96e82562c0e'), ObjectId('6638cfe190e9d96e82562c0f'), ObjectId('6638cfe190e9d96e82562c10'), ObjectId('6638cfe190e9d96e82562c11'), ObjectId('6638cfe190e9d96e82562c12'), ObjectId('6638cfe190e9d96e82562c13'), ObjectId('6638cfe190e9d96e82562c14'), ObjectId('6638cfe190e9d96e82562c15'), ObjectId('6638cfe190e9d96e82562c16'), ObjectId('6638cfe190e9d96e82562c17'), ObjectId('6638cfe190e9d96e82562c18'), ObjectId('6638cfe190e9d96e82562c19'), ObjectId('6638cfe190e9d96e82562c1a'), ObjectId('6638cfe190e9d96e82562c1b'), ObjectId('6638cfe190e9d96e82562c1c'), ObjectId('6638cfe190e9d96e82562c1d'), ObjectId('6638cfe190e9d96e82562c1e'), ObjectId('6638cfe190e9d96e82562c1f'), ObjectId('6638cfe190e9d96e82562c20'), ObjectId('6638cfe190e9d96e82562c21'), ObjectId('6638cfe190e9d96e82562c22'), ObjectId('6638cfe190e9d96e82562c23'), ObjectId('6638cfe190e9d96e82562c24'), ObjectId('6638cfe190e9d96e82562c25'), ObjectId('6638cfe190e9d96e82562c26'), ObjectId('6638cfe190e9d96e82562c27'), ObjectId('6638cfe190e9d96e82562c28'), ObjectId('6638cfe190e9d96e82562c29'), ObjectId('6638cfe190e9d96e82562c2a'), ObjectId('6638cfe190e9d96e82562c2b'), ObjectId('6638cfe190e9d96e82562c2c'), ObjectId('6638cfe190e9d96e82562c2d'), ObjectId('6638cfe190e9d96e82562c2e'), ObjectId('6638cfe190e9d96e82562c2f'), ObjectId('6638cfe190e9d96e82562c30')], acknowledged=True)"
      ]
     },
     "execution_count": 5,
     "metadata": {},
     "output_type": "execute_result"
    }
   ],
   "source": [
    "client = pymongo.MongoClient(\"mongodb://localhost:27017/\")\n",
    "db = client[\"audio_features\"]\n",
    "collection = db[\"features\"]\n",
    "\n",
    "AUDIO_DIR = r\"fma_small1\"\n",
    "\n",
    "# Getting all audio files\n",
    "audio_files = []\n",
    "for root, dirs, files in os.walk(AUDIO_DIR):\n",
    "    for file in files:\n",
    "        if file.endswith(\".mp3\"):\n",
    "            audio_files.append(os.path.join(root, file))\n",
    "            \n",
    "# Using joblib to extract features in parallel\n",
    "features = Parallel(n_jobs=-1)(\n",
    "    delayed(extract_features)(file) for file in tqdm(audio_files, total=len(audio_files))\n",
    ")\n",
    "            \n",
    "features = [f for f in features if f is not None]\n",
    "\n",
    "# Insert features into MongoDB\n",
    "collection.insert_many(features)"
   ]
  },
  {
   "cell_type": "markdown",
   "metadata": {},
   "source": [
    "### Printing the extracted features \n",
    "for testing purposes"
   ]
  },
  {
   "cell_type": "code",
   "execution_count": 1,
   "metadata": {},
   "outputs": [],
   "source": [
    "# priting the first 5 records\n",
    "# for feature in collection.find().limit(5):\n",
    "#     print(feature)"
   ]
  }
 ],
 "metadata": {
  "kernelspec": {
   "display_name": "Python 3",
   "language": "python",
   "name": "python3"
  },
  "language_info": {
   "codemirror_mode": {
    "name": "ipython",
    "version": 3
   },
   "file_extension": ".py",
   "mimetype": "text/x-python",
   "name": "python",
   "nbconvert_exporter": "python",
   "pygments_lexer": "ipython3",
   "version": "3.10.12"
  }
 },
 "nbformat": 4,
 "nbformat_minor": 2
}
