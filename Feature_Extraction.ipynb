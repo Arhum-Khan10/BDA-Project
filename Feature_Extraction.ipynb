{
 "cells": [
  {
   "cell_type": "code",
   "execution_count": null,
   "metadata": {},
   "outputs": [],
   "source": [
    "import os\n",
    "import pymongo\n",
    "import librosa\n",
    "import numpy as np\n",
    "import pandas as pd\n",
    "from sklearn.preprocessing import MinMaxScaler\n",
    "from joblib import Parallel, delayed, Memory"
   ]
  },
  {
   "cell_type": "code",
   "execution_count": null,
   "metadata": {},
   "outputs": [],
   "source": [
    "print(librosa.__version__)"
   ]
  },
  {
   "cell_type": "code",
   "execution_count": null,
   "metadata": {},
   "outputs": [],
   "source": [
    "tracks = pd.read_csv('fma_metadata\\\\tracks.csv')\n",
    "genres = pd.read_csv('fma_metadata\\\\genres.csv')\n",
    "features = pd.read_csv('fma_metadata\\\\features.csv')\n",
    "echonest = pd.read_csv('fma_metadata\\\\echonest.csv')\n",
    "raw_albums = pd.read_csv('fma_metadata\\\\raw_albums.csv')\n",
    "raw_artists = pd.read_csv('fma_metadata\\\\raw_artists.csv')\n",
    "raw_genres = pd.read_csv('fma_metadata\\\\raw_genres.csv')\n",
    "raw_tracks = pd.read_csv('fma_metadata\\\\raw_tracks.csv')\n",
    "raw_echonest = pd.read_csv('fma_metadata\\\\raw_echonest.csv')"
   ]
  },
  {
   "cell_type": "code",
   "execution_count": null,
   "metadata": {},
   "outputs": [],
   "source": [
    "# finding a specifc artist in the raw_artist by using the name and if not found display a message\n",
    "def find_artist(artist_name):\n",
    "    # convert the artist_name column to lower case\n",
    "    artist_name = artist_name.lower()\n",
    "    raw_artists['artist_name'] = raw_artists['artist_name'].str.lower()\n",
    "    \n",
    "    # check if the artist_name is in the raw_artists dataframe\n",
    "    if artist_name.lower() in raw_artists['artist_name'].values:\n",
    "        print('Artist found')\n",
    "    else:\n",
    "        print('Artist not found')\n",
    "        \n",
    "        \n",
    "artist_name = 'lucky dragons'\n",
    "find_artist(artist_name)"
   ]
  },
  {
   "cell_type": "code",
   "execution_count": null,
   "metadata": {},
   "outputs": [],
   "source": [
    "# Path to the directory containing audio files\n",
    "AUDIO_DIR = r\"D:\\\\fma_small1\"\n",
    "\n",
    "# Get all audio files\n",
    "audio_files = []\n",
    "for root, dirs, files in os.walk(AUDIO_DIR):\n",
    "    for file in files:\n",
    "        if file.endswith(\".mp3\"):\n",
    "            audio_files.append(os.path.join(root, file))\n",
    "\n",
    "# Create a memory object for caching\n",
    "memory = Memory(\"cache\", verbose=0)\n",
    "\n",
    "# Function to process audio file and extract features\n",
    "@memory.cache\n",
    "def extract_features(file):\n",
    "    try:\n",
    "        y, sr = librosa.load(file, sr=None)\n",
    "        mfcc = librosa.feature.mfcc(y=y, sr=sr)\n",
    "        spectral_centroid = librosa.feature.spectral_centroid(y=y, sr=sr)\n",
    "        zero_crossing_rate = librosa.feature.zero_crossing_rate(y)\n",
    "        return mfcc, spectral_centroid, zero_crossing_rate\n",
    "    except Exception as e:\n",
    "        print(f\"Error loading file {file}: {e}\")\n",
    "        return np.array([]), np.array([]), np.array([])\n",
    "\n",
    "\n",
    "# Use joblib to process the files in parallel and extract features\n",
    "features = Parallel(n_jobs=-1)(\n",
    "    delayed(extract_features)(file) for file in tqdm(audio_files, total=len(audio_files))\n",
    ")\n",
    "\n",
    "# Unpack features\n",
    "mfcc_features, spectral_centroid_features, zero_crossing_rate_features = zip(*features)\n",
    "\n",
    "# Print the type of each feature\n",
    "print(type(mfcc_features))\n",
    "print(type(spectral_centroid_features))\n",
    "print(type(zero_crossing_rate_features))"
   ]
  },
  {
   "cell_type": "code",
   "execution_count": null,
   "metadata": {},
   "outputs": [],
   "source": [
    "print(spectral_centroid_features)"
   ]
  },
  {
   "cell_type": "code",
   "execution_count": null,
   "metadata": {},
   "outputs": [],
   "source": [
    "# Convert features to NumPy arrays\n",
    "mfcc_features_list = np.concatenate([f.T for f in mfcc_features if f.size > 0], axis=0)\n",
    "spectral_centroid_features_list = np.concatenate([f.T for f in spectral_centroid_features if f.size > 0], axis=0)\n",
    "zero_crossing_rate_features_list = np.concatenate([f.T for f in zero_crossing_rate_features if f.size > 0], axis=0)\n",
    "\n",
    "\n",
    "# RobustScaler for standardization\n",
    "normalizer = MinMaxScaler()\n",
    "robust_standardized_mfcc_features = normalizer.fit_transform(mfcc_features_list)\n",
    "normalized_spectral_centroid = normalizer.fit_transform(spectral_centroid_features_list)\n",
    "normalized_zero_crossing_rate = normalizer.fit_transform(zero_crossing_rate_features_list)\n",
    "\n",
    "# Display the first 5 rows of the normalized MFCC features\n",
    "print(\"Standardized MFCC Features: \",robust_standardized_mfcc_features[:5])\n",
    "print(\"________________________\")\n",
    "print(\"Normalized Spectral Centrioid: \",normalized_spectral_centroid[:5])\n",
    "print(\"________________________\")\n",
    "print(\"Normalized Zero Crossing Rate: \",normalized_zero_crossing_rate[:5])"
   ]
  },
  {
   "cell_type": "code",
   "execution_count": null,
   "metadata": {},
   "outputs": [],
   "source": [
    "# applying pca on the features\n",
    "from sklearn.decomposition import PCA\n",
    "\n",
    "# Initialize PCA with 2 components\n",
    "pca = PCA(n_components=2)\n",
    "\n",
    "# Fit and transform the standardized MFCC features\n",
    "pca_mfcc_features = pca.fit_transform(robust_standardized_mfcc_features)\n",
    "\n",
    "# Display the shape of the PCA features\n",
    "print(pca_mfcc_features)"
   ]
  },
  {
   "cell_type": "code",
   "execution_count": null,
   "metadata": {},
   "outputs": [],
   "source": [
    "# # save the normalized features to a npy\n",
    "# np.save('normalized_mfcc_features.npy', robust_standardized_mfcc_features)\n",
    "# np.save('normalized_spectral_centroid.npy', normalized_spectral_centroid)\n",
    "# np.save('normalized_zero_crossing_rate.npy', normalized_zero_crossing_rate)\n"
   ]
  },
  {
   "cell_type": "code",
   "execution_count": null,
   "metadata": {},
   "outputs": [],
   "source": [
    "# saving the features to a mongoDB \n",
    "client = pymongo.MongoClient(\"mongodb://localhost:27017/\")\n",
    "db = client[\"music_features\"]\n",
    "mfcc_collection = db[\"mfcc_features\"]\n",
    "spectral_centroid_collection = db[\"spectral_centroid\"]\n",
    "zero_crossing_rate_collection = db[\"zero_crossing_rate\"]\n",
    "\n",
    "# Insert the features into the collection\n",
    "# convert the features to a list\n",
    "# Convert the features to a list of dictionaries\n",
    "robust_standardized_mfcc_features = [ {\"value\": x} for x in robust_standardized_mfcc_features ]\n",
    "normalized_spectral_centroid = [ {\"value\": x} for x in normalized_spectral_centroid ]\n",
    "normalized_zero_crossing_rate = [ {\"value\": x} for x in normalized_zero_crossing_rate ]\n",
    "\n",
    "# Insert the features into the collection\n",
    "mfcc_collection.insert_many(robust_standardized_mfcc_features)\n",
    "spectral_centroid_collection.insert_many(normalized_spectral_centroid)\n",
    "zero_crossing_rate_collection.insert_many(normalized_zero_crossing_rate)\n"
   ]
  },
  {
   "cell_type": "code",
   "execution_count": null,
   "metadata": {},
   "outputs": [],
   "source": [
    "# Display the first document in the collection\n",
    "print(mfcc_collection.find_one())\n",
    "print(spectral_centroid_collection.find_one())\n",
    "print(zero_crossing_rate_collection.find_one())"
   ]
  }
 ],
 "metadata": {
  "kernelspec": {
   "display_name": "Python 3",
   "language": "python",
   "name": "python3"
  },
  "language_info": {
   "codemirror_mode": {
    "name": "ipython",
    "version": 3
   },
   "file_extension": ".py",
   "mimetype": "text/x-python",
   "name": "python",
   "nbconvert_exporter": "python",
   "pygments_lexer": "ipython3",
   "version": "3.12.0"
  }
 },
 "nbformat": 4,
 "nbformat_minor": 2
}
