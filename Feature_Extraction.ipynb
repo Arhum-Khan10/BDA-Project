{
 "cells": [
  {
   "cell_type": "code",
   "execution_count": null,
   "metadata": {},
   "outputs": [],
   "source": [
    "import pandas as pd\n",
    "import numpy as np\n",
    "\n",
    "tracks = pd.read_csv('D:\\\\fma_metadata\\\\tracks.csv')\n",
    "genres = pd.read_csv('D:\\\\fma_metadata\\\\genres.csv')\n",
    "features = pd.read_csv('D:\\\\fma_metadata\\\\features.csv')\n",
    "echonest = pd.read_csv('D:\\\\fma_metadata\\\\echonest.csv')\n",
    "raw_albums = pd.read_csv('D:\\\\fma_metadata\\\\raw_albums.csv')\n",
    "raw_artists = pd.read_csv('D:\\\\fma_metadata\\\\raw_artists.csv')\n",
    "raw_genres = pd.read_csv('D:\\\\fma_metadata\\\\raw_genres.csv')\n",
    "raw_tracks = pd.read_csv('D:\\\\fma_metadata\\\\raw_tracks.csv')\n",
    "raw_echonest = pd.read_csv('D:\\\\fma_metadata\\\\raw_echonest.csv')"
   ]
  },
  {
   "cell_type": "code",
   "execution_count": null,
   "metadata": {},
   "outputs": [],
   "source": [
    "# finding a specifc artist in the raw_artist by using the name and if not found display a message\n",
    "def find_artist(artist_name):\n",
    "    # convert the artist_name column to lower case\n",
    "    artist_name = artist_name.lower()\n",
    "    raw_artists['artist_name'] = raw_artists['artist_name'].str.lower()\n",
    "    \n",
    "    # check if the artist_name is in the raw_artists dataframe\n",
    "    if artist_name.lower() in raw_artists['artist_name'].values:\n",
    "        print('Artist found')\n",
    "    else:\n",
    "        print('Artist not found')\n",
    "        \n",
    "        \n",
    "artist_name = 'lucky dragons'\n",
    "find_artist(artist_name)"
   ]
  },
  {
   "cell_type": "code",
   "execution_count": 65,
   "metadata": {},
   "outputs": [
    {
     "name": "stdout",
     "output_type": "stream",
     "text": [
      "(1459283, 13)\n"
     ]
    }
   ],
   "source": [
    "import os\n",
    "import librosa\n",
    "import numpy as np\n",
    "\n",
    "# Path to the directory containing audio files\n",
    "directory_path = \"G:\\\\fma_small1\"\n",
    "\n",
    "# Initialize lists to store features and corresponding labels\n",
    "mfcc_features_list = []\n",
    "labels = []\n",
    "\n",
    "# Iterate through each folder (genre) in the directory\n",
    "for folder_name in os.listdir(directory_path):\n",
    "    genre_folder_path = os.path.join(directory_path, folder_name)\n",
    "    \n",
    "    # Iterate through each audio file in the genre folder\n",
    "    for audio_file_name in os.listdir(genre_folder_path):\n",
    "        audio_file_path = os.path.join(genre_folder_path, audio_file_name)\n",
    "        \n",
    "        # Load audio file and extract MFCC features\n",
    "        audio_signal, sampling_rate = librosa.load(audio_file_path, sr=None)\n",
    "        mfcc_features = librosa.feature.mfcc(y=audio_signal, sr=sampling_rate, n_mfcc=13)\n",
    "        spectral_centroid = librosa.feature.spectral_centroid(y=audio_signal, sr=sampling_rate)\n",
    "        zero_crossing_rate = librosa.feature.zero_crossing_rate(y=audio_signal)\n",
    "\n",
    "        # Append MFCC features and corresponding label to lists\n",
    "        mfcc_features_list.append(mfcc_features.T)  # Transpose to have features along rows\n",
    "        labels.append(folder_name)\n",
    "\n",
    "# Concatenate MFCC features to create a single array\n",
    "mfcc_features_array = np.concatenate(mfcc_features_list)\n",
    "spectral_centroid_array = np.concatenate(spectral_centroid)\n",
    "zero_crossing_rate_array = np.concatenate(zero_crossing_rate)\n",
    "\n",
    "# Display the shape of the MFCC features array and labels\n",
    "print(mfcc_features_array.shape)"
   ]
  },
  {
   "cell_type": "code",
   "execution_count": 64,
   "metadata": {},
   "outputs": [
    {
     "name": "stdout",
     "output_type": "stream",
     "text": [
      "(129136, 13)\n",
      "50\n"
     ]
    }
   ],
   "source": [
    "import os\n",
    "import librosa\n",
    "import numpy as np\n",
    "\n",
    "# Path to the directory containing audio files\n",
    "directory_path = \"G:\\\\fma_small\"\n",
    "\n",
    "# Initialize lists to store features and corresponding labels\n",
    "mfcc_features_list = []\n",
    "labels = []\n",
    "\n",
    "# Iterate through each folder (genre) in the directory\n",
    "for folder_name in os.listdir(directory_path):\n",
    "    genre_folder_path = os.path.join(directory_path, folder_name)\n",
    "    \n",
    "    # Initialize a counter to track the number of files read\n",
    "    file_count = 0\n",
    "    \n",
    "    # Iterate through each audio file in the genre folder\n",
    "    for audio_file_name in os.listdir(genre_folder_path):\n",
    "        if file_count >= 564:\n",
    "            break  # Break out of the loop if 10 files have been read\n",
    "        audio_file_path = os.path.join(genre_folder_path, audio_file_name)\n",
    "        \n",
    "        # Load audio file and extract MFCC features\n",
    "        audio_signal, sampling_rate = librosa.load(audio_file_path, sr=None)\n",
    "        mfcc_features = librosa.feature.mfcc(y=audio_signal, sr=sampling_rate, n_mfcc=13)\n",
    "        spectral_centroid = librosa.feature.spectral_centroid(y=audio_signal, sr=sampling_rate)\n",
    "        zero_crossing_rate = librosa.feature.zero_crossing_rate(y=audio_signal)\n",
    "\n",
    "        # Append MFCC features and corresponding label to lists\n",
    "        mfcc_features_list.append(mfcc_features.T)  # Transpose to have features along rows\n",
    "        labels.append(folder_name)\n",
    "        \n",
    "        file_count += 1  # Increment the file count\n",
    "        \n",
    "    # Check if 10 files have been read, if not, break out of the outer loop\n",
    "    if file_count < 10:\n",
    "        break\n",
    "\n",
    "# Concatenate MFCC features to create a single array\n",
    "mfcc_features_array = np.concatenate(mfcc_features_list)\n",
    "spectral_centroid_array = np.concatenate(spectral_centroid)\n",
    "zero_crossing_rate_array = np.concatenate(zero_crossing_rate)\n",
    "\n",
    "# Display the shape of the MFCC features array and labels\n",
    "print(mfcc_features_array.shape)\n",
    "print(file_count)"
   ]
  },
  {
   "cell_type": "code",
   "execution_count": null,
   "metadata": {},
   "outputs": [],
   "source": [
    "from sklearn.preprocessing import RobustScaler, Normalizer\n",
    "\n",
    "# RobustScaler for standardization\n",
    "robust_scaler = RobustScaler()\n",
    "robust_standardized_mfcc_features = robust_scaler.fit_transform(mfcc_features)\n",
    "\n",
    "# # Normalizer the stndardized features\n",
    "normalizer = Normalizer(\"l2\")\n",
    "normalized_mfcc_features = normalizer.fit_transform(robust_standardized_mfcc_features)\n",
    "normalized_spectral_centroid = normalizer.fit_transform(spectral_centroid)\n",
    "normalized_zero_crossing_rate = normalizer.fit_transform(zero_crossing_rate)\n",
    "\n",
    "# Display the first 5 rows of the normalized MFCC features\n",
    "print(normalized_mfcc_features[:5])\n",
    "print(\"________________________\")\n",
    "print(normalized_spectral_centroid[:5])\n",
    "print(\"________________________\")\n",
    "print(normalized_zero_crossing_rate[:5])"
   ]
  },
  {
   "cell_type": "code",
   "execution_count": null,
   "metadata": {},
   "outputs": [],
   "source": [
    "# save the normalized features to a npy\n",
    "np.save('normalized_mfcc_features.npy', normalized_mfcc_features)\n",
    "np.save('normalized_spectral_centroid.npy', normalized_spectral_centroid)\n",
    "np.save('normalized_zero_crossing_rate.npy', normalized_zero_crossing_rate)"
   ]
  }
 ],
 "metadata": {
  "kernelspec": {
   "display_name": "Python 3",
   "language": "python",
   "name": "python3"
  },
  "language_info": {
   "codemirror_mode": {
    "name": "ipython",
    "version": 3
   },
   "file_extension": ".py",
   "mimetype": "text/x-python",
   "name": "python",
   "nbconvert_exporter": "python",
   "pygments_lexer": "ipython3",
   "version": "3.12.0"
  }
 },
 "nbformat": 4,
 "nbformat_minor": 2
}
